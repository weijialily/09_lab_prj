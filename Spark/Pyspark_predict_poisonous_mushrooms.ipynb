{
 "cells": [
  {
   "cell_type": "markdown",
   "metadata": {},
   "source": [
    "Input dataset: mushroom-classification from Kaggle competition https://www.kaggle.com/uciml/mushroom-classification"
   ]
  },
  {
   "cell_type": "markdown",
   "metadata": {},
   "source": [
    "The goal is to practice Pyspark here. The rest part will be worked carefully elsewhere. "
   ]
  },
  {
   "cell_type": "code",
   "execution_count": 1,
   "metadata": {
    "scrolled": false
   },
   "outputs": [
    {
     "name": "stdout",
     "output_type": "stream",
     "text": [
      "class,cap-shape,cap-surface,cap-color,bruises,odor,gill-attachment,gill-spacing,gill-size,gill-color,stalk-shape,stalk-root,stalk-surface-above-ring,stalk-surface-below-ring,stalk-color-above-ring,stalk-color-below-ring,veil-type,veil-color,ring-number,ring-type,spore-print-color,population,habitat\r\n",
      "p,x,s,n,t,p,f,c,n,k,e,e,s,s,w,w,p,w,o,p,k,s,u\r\n",
      "e,x,s,y,t,a,f,c,b,k,e,c,s,s,w,w,p,w,o,p,n,n,g\r\n",
      "e,b,s,w,t,l,f,c,b,n,e,c,s,s,w,w,p,w,o,p,n,n,m\r\n",
      "p,x,y,w,t,p,f,c,n,n,e,e,s,s,w,w,p,w,o,p,k,s,u\r\n"
     ]
    }
   ],
   "source": [
    "! head -5 mushrooms.csv"
   ]
  },
  {
   "cell_type": "code",
   "execution_count": 1,
   "metadata": {},
   "outputs": [
    {
     "data": {
      "text/plain": [
       "<pyspark.context.SparkContext at 0x101c9d5d0>"
      ]
     },
     "execution_count": 1,
     "metadata": {},
     "output_type": "execute_result"
    }
   ],
   "source": [
    "sc"
   ]
  },
  {
   "cell_type": "markdown",
   "metadata": {},
   "source": [
    "### Import Packages"
   ]
  },
  {
   "cell_type": "code",
   "execution_count": 2,
   "metadata": {
    "collapsed": true
   },
   "outputs": [],
   "source": [
    "import pandas as pd\n",
    "from pyspark.sql.types import *\n",
    "from pyspark.ml.feature import VectorAssembler, StringIndexer, OneHotEncoder\n",
    "from pyspark.ml.classification import DecisionTreeClassifier\n",
    "from pyspark.ml.evaluation import MulticlassClassificationEvaluator"
   ]
  },
  {
   "cell_type": "markdown",
   "metadata": {},
   "source": [
    "### Read Data"
   ]
  },
  {
   "cell_type": "markdown",
   "metadata": {},
   "source": [
    "If the size of the dataset is not too large, you can use pandas read csv first and transfer it to spart dataframe. However, in most of the time if we need to use Spark, you have to define the schema first then read the data directly through Spark."
   ]
  },
  {
   "cell_type": "code",
   "execution_count": 19,
   "metadata": {
    "collapsed": true
   },
   "outputs": [],
   "source": [
    "df_pd = pd.read_csv('mushrooms.csv') \n",
    "df_sp = spark.createDataFrame(df_pd) # sc, sqlconverter"
   ]
  },
  {
   "cell_type": "code",
   "execution_count": 21,
   "metadata": {
    "collapsed": true
   },
   "outputs": [],
   "source": [
    "df_sp1 = spark.read.csv('mushrooms.csv',header=True)"
   ]
  },
  {
   "cell_type": "code",
   "execution_count": 4,
   "metadata": {},
   "outputs": [
    {
     "data": {
      "text/html": [
       "<div>\n",
       "<style>\n",
       "    .dataframe thead tr:only-child th {\n",
       "        text-align: right;\n",
       "    }\n",
       "\n",
       "    .dataframe thead th {\n",
       "        text-align: left;\n",
       "    }\n",
       "\n",
       "    .dataframe tbody tr th {\n",
       "        vertical-align: top;\n",
       "    }\n",
       "</style>\n",
       "<table border=\"1\" class=\"dataframe\">\n",
       "  <thead>\n",
       "    <tr style=\"text-align: right;\">\n",
       "      <th></th>\n",
       "      <th>class</th>\n",
       "      <th>cap-shape</th>\n",
       "      <th>cap-surface</th>\n",
       "      <th>cap-color</th>\n",
       "      <th>bruises</th>\n",
       "      <th>odor</th>\n",
       "      <th>gill-attachment</th>\n",
       "      <th>gill-spacing</th>\n",
       "      <th>gill-size</th>\n",
       "      <th>gill-color</th>\n",
       "      <th>...</th>\n",
       "      <th>stalk-surface-below-ring</th>\n",
       "      <th>stalk-color-above-ring</th>\n",
       "      <th>stalk-color-below-ring</th>\n",
       "      <th>veil-type</th>\n",
       "      <th>veil-color</th>\n",
       "      <th>ring-number</th>\n",
       "      <th>ring-type</th>\n",
       "      <th>spore-print-color</th>\n",
       "      <th>population</th>\n",
       "      <th>habitat</th>\n",
       "    </tr>\n",
       "  </thead>\n",
       "  <tbody>\n",
       "    <tr>\n",
       "      <th>0</th>\n",
       "      <td>p</td>\n",
       "      <td>x</td>\n",
       "      <td>s</td>\n",
       "      <td>n</td>\n",
       "      <td>t</td>\n",
       "      <td>p</td>\n",
       "      <td>f</td>\n",
       "      <td>c</td>\n",
       "      <td>n</td>\n",
       "      <td>k</td>\n",
       "      <td>...</td>\n",
       "      <td>s</td>\n",
       "      <td>w</td>\n",
       "      <td>w</td>\n",
       "      <td>p</td>\n",
       "      <td>w</td>\n",
       "      <td>o</td>\n",
       "      <td>p</td>\n",
       "      <td>k</td>\n",
       "      <td>s</td>\n",
       "      <td>u</td>\n",
       "    </tr>\n",
       "    <tr>\n",
       "      <th>1</th>\n",
       "      <td>e</td>\n",
       "      <td>x</td>\n",
       "      <td>s</td>\n",
       "      <td>y</td>\n",
       "      <td>t</td>\n",
       "      <td>a</td>\n",
       "      <td>f</td>\n",
       "      <td>c</td>\n",
       "      <td>b</td>\n",
       "      <td>k</td>\n",
       "      <td>...</td>\n",
       "      <td>s</td>\n",
       "      <td>w</td>\n",
       "      <td>w</td>\n",
       "      <td>p</td>\n",
       "      <td>w</td>\n",
       "      <td>o</td>\n",
       "      <td>p</td>\n",
       "      <td>n</td>\n",
       "      <td>n</td>\n",
       "      <td>g</td>\n",
       "    </tr>\n",
       "    <tr>\n",
       "      <th>2</th>\n",
       "      <td>e</td>\n",
       "      <td>b</td>\n",
       "      <td>s</td>\n",
       "      <td>w</td>\n",
       "      <td>t</td>\n",
       "      <td>l</td>\n",
       "      <td>f</td>\n",
       "      <td>c</td>\n",
       "      <td>b</td>\n",
       "      <td>n</td>\n",
       "      <td>...</td>\n",
       "      <td>s</td>\n",
       "      <td>w</td>\n",
       "      <td>w</td>\n",
       "      <td>p</td>\n",
       "      <td>w</td>\n",
       "      <td>o</td>\n",
       "      <td>p</td>\n",
       "      <td>n</td>\n",
       "      <td>n</td>\n",
       "      <td>m</td>\n",
       "    </tr>\n",
       "    <tr>\n",
       "      <th>3</th>\n",
       "      <td>p</td>\n",
       "      <td>x</td>\n",
       "      <td>y</td>\n",
       "      <td>w</td>\n",
       "      <td>t</td>\n",
       "      <td>p</td>\n",
       "      <td>f</td>\n",
       "      <td>c</td>\n",
       "      <td>n</td>\n",
       "      <td>n</td>\n",
       "      <td>...</td>\n",
       "      <td>s</td>\n",
       "      <td>w</td>\n",
       "      <td>w</td>\n",
       "      <td>p</td>\n",
       "      <td>w</td>\n",
       "      <td>o</td>\n",
       "      <td>p</td>\n",
       "      <td>k</td>\n",
       "      <td>s</td>\n",
       "      <td>u</td>\n",
       "    </tr>\n",
       "    <tr>\n",
       "      <th>4</th>\n",
       "      <td>e</td>\n",
       "      <td>x</td>\n",
       "      <td>s</td>\n",
       "      <td>g</td>\n",
       "      <td>f</td>\n",
       "      <td>n</td>\n",
       "      <td>f</td>\n",
       "      <td>w</td>\n",
       "      <td>b</td>\n",
       "      <td>k</td>\n",
       "      <td>...</td>\n",
       "      <td>s</td>\n",
       "      <td>w</td>\n",
       "      <td>w</td>\n",
       "      <td>p</td>\n",
       "      <td>w</td>\n",
       "      <td>o</td>\n",
       "      <td>e</td>\n",
       "      <td>n</td>\n",
       "      <td>a</td>\n",
       "      <td>g</td>\n",
       "    </tr>\n",
       "  </tbody>\n",
       "</table>\n",
       "<p>5 rows × 23 columns</p>\n",
       "</div>"
      ],
      "text/plain": [
       "  class cap-shape cap-surface cap-color bruises odor gill-attachment  \\\n",
       "0     p         x           s         n       t    p               f   \n",
       "1     e         x           s         y       t    a               f   \n",
       "2     e         b           s         w       t    l               f   \n",
       "3     p         x           y         w       t    p               f   \n",
       "4     e         x           s         g       f    n               f   \n",
       "\n",
       "  gill-spacing gill-size gill-color   ...   stalk-surface-below-ring  \\\n",
       "0            c         n          k   ...                          s   \n",
       "1            c         b          k   ...                          s   \n",
       "2            c         b          n   ...                          s   \n",
       "3            c         n          n   ...                          s   \n",
       "4            w         b          k   ...                          s   \n",
       "\n",
       "  stalk-color-above-ring stalk-color-below-ring veil-type veil-color  \\\n",
       "0                      w                      w         p          w   \n",
       "1                      w                      w         p          w   \n",
       "2                      w                      w         p          w   \n",
       "3                      w                      w         p          w   \n",
       "4                      w                      w         p          w   \n",
       "\n",
       "  ring-number ring-type spore-print-color population habitat  \n",
       "0           o         p                 k          s       u  \n",
       "1           o         p                 n          n       g  \n",
       "2           o         p                 n          n       m  \n",
       "3           o         p                 k          s       u  \n",
       "4           o         e                 n          a       g  \n",
       "\n",
       "[5 rows x 23 columns]"
      ]
     },
     "execution_count": 4,
     "metadata": {},
     "output_type": "execute_result"
    }
   ],
   "source": [
    "df_pd.head()"
   ]
  },
  {
   "cell_type": "code",
   "execution_count": 5,
   "metadata": {},
   "outputs": [
    {
     "data": {
      "text/plain": [
       "(8124, 23)"
      ]
     },
     "execution_count": 5,
     "metadata": {},
     "output_type": "execute_result"
    }
   ],
   "source": [
    "df_pd.shape"
   ]
  },
  {
   "cell_type": "code",
   "execution_count": 6,
   "metadata": {},
   "outputs": [
    {
     "data": {
      "text/plain": [
       "class                       0\n",
       "cap-shape                   0\n",
       "cap-surface                 0\n",
       "cap-color                   0\n",
       "bruises                     0\n",
       "odor                        0\n",
       "gill-attachment             0\n",
       "gill-spacing                0\n",
       "gill-size                   0\n",
       "gill-color                  0\n",
       "stalk-shape                 0\n",
       "stalk-root                  0\n",
       "stalk-surface-above-ring    0\n",
       "stalk-surface-below-ring    0\n",
       "stalk-color-above-ring      0\n",
       "stalk-color-below-ring      0\n",
       "veil-type                   0\n",
       "veil-color                  0\n",
       "ring-number                 0\n",
       "ring-type                   0\n",
       "spore-print-color           0\n",
       "population                  0\n",
       "habitat                     0\n",
       "dtype: int64"
      ]
     },
     "execution_count": 6,
     "metadata": {},
     "output_type": "execute_result"
    }
   ],
   "source": [
    "# Clean data\n",
    "# Need to transfer categorial features into dummy\n",
    "df_pd.isnull().sum()"
   ]
  },
  {
   "cell_type": "code",
   "execution_count": 7,
   "metadata": {},
   "outputs": [
    {
     "data": {
      "text/plain": [
       "0"
      ]
     },
     "execution_count": 7,
     "metadata": {},
     "output_type": "execute_result"
    }
   ],
   "source": [
    "df_sp.select('*').filter(\"class is null\").count()"
   ]
  },
  {
   "cell_type": "code",
   "execution_count": 8,
   "metadata": {},
   "outputs": [
    {
     "name": "stdout",
     "output_type": "stream",
     "text": [
      "+-----+-----+\n",
      "|class|count|\n",
      "+-----+-----+\n",
      "|    e| 4208|\n",
      "|    p| 3916|\n",
      "+-----+-----+\n",
      "\n"
     ]
    }
   ],
   "source": [
    "# Show value counts of a column\n",
    "# The clause is sql-like\n",
    "# Select class from table where/join/..... group by/ order by/limit\n",
    "a = df_sp.select('class').groupBy('class').count()\n",
    "a.show()"
   ]
  },
  {
   "cell_type": "markdown",
   "metadata": {},
   "source": [
    "### Create label column for prediction (Label Encoding Example)"
   ]
  },
  {
   "cell_type": "code",
   "execution_count": 23,
   "metadata": {
    "scrolled": true
   },
   "outputs": [
    {
     "name": "stdout",
     "output_type": "stream",
     "text": [
      "+-----+-----+\n",
      "|class|label|\n",
      "+-----+-----+\n",
      "|    p|  1.0|\n",
      "|    e|  0.0|\n",
      "|    e|  0.0|\n",
      "|    p|  1.0|\n",
      "|    e|  0.0|\n",
      "|    e|  0.0|\n",
      "|    e|  0.0|\n",
      "|    e|  0.0|\n",
      "|    p|  1.0|\n",
      "|    e|  0.0|\n",
      "+-----+-----+\n",
      "only showing top 10 rows\n",
      "\n"
     ]
    }
   ],
   "source": [
    "# stringindexer == labelencoder\n",
    "stringIndexer = StringIndexer(inputCol=\"class\", outputCol=\"label\")\n",
    "df_sp = stringIndexer.fit(df_sp).transform(df_sp)\n",
    "df_sp.select('class','label').show(10)"
   ]
  },
  {
   "cell_type": "markdown",
   "metadata": {},
   "source": [
    "### OneHotEncoder Example"
   ]
  },
  {
   "cell_type": "code",
   "execution_count": 25,
   "metadata": {
    "scrolled": false
   },
   "outputs": [
    {
     "name": "stdout",
     "output_type": "stream",
     "text": [
      "+---------+-----------------+-----------------+\n",
      "|cap-shape|indexed_cap-shape|feature_cap-shape|\n",
      "+---------+-----------------+-----------------+\n",
      "|        x|              0.0|    (5,[0],[1.0])|\n",
      "|        x|              0.0|    (5,[0],[1.0])|\n",
      "|        b|              3.0|    (5,[3],[1.0])|\n",
      "|        x|              0.0|    (5,[0],[1.0])|\n",
      "|        x|              0.0|    (5,[0],[1.0])|\n",
      "|        x|              0.0|    (5,[0],[1.0])|\n",
      "|        b|              3.0|    (5,[3],[1.0])|\n",
      "|        b|              3.0|    (5,[3],[1.0])|\n",
      "|        x|              0.0|    (5,[0],[1.0])|\n",
      "|        b|              3.0|    (5,[3],[1.0])|\n",
      "|        x|              0.0|    (5,[0],[1.0])|\n",
      "|        x|              0.0|    (5,[0],[1.0])|\n",
      "|        b|              3.0|    (5,[3],[1.0])|\n",
      "|        x|              0.0|    (5,[0],[1.0])|\n",
      "|        x|              0.0|    (5,[0],[1.0])|\n",
      "|        s|              4.0|    (5,[4],[1.0])|\n",
      "|        f|              1.0|    (5,[1],[1.0])|\n",
      "|        x|              0.0|    (5,[0],[1.0])|\n",
      "|        x|              0.0|    (5,[0],[1.0])|\n",
      "|        x|              0.0|    (5,[0],[1.0])|\n",
      "+---------+-----------------+-----------------+\n",
      "only showing top 20 rows\n",
      "\n"
     ]
    }
   ],
   "source": [
    "# use onehotencoder to process feature, but still need to transfer string into index first\n",
    "stringIndexer = StringIndexer(inputCol='cap-shape', outputCol='indexed_cap-shape')\n",
    "df_sp = stringIndexer.fit(df_sp).transform(df_sp)\n",
    "\n",
    "encoder = OneHotEncoder(inputCol='indexed_cap-shape', outputCol='feature_cap-shape')\n",
    "df_sp = encoder.transform(df_sp)\n",
    "\n",
    "df_sp.select('cap-shape','indexed_cap-shape','feature_cap-shape').show()\n"
   ]
  },
  {
   "cell_type": "markdown",
   "metadata": {},
   "source": [
    "After OneHotEncoder, the output will be one column (traditionally there will be several columns). \n",
    "\n",
    "e.g. (5,[0],[1.0])\n",
    "In this feature there are 5 unique values, this row the value is 0.\n"
   ]
  },
  {
   "cell_type": "code",
   "execution_count": 26,
   "metadata": {},
   "outputs": [
    {
     "name": "stdout",
     "output_type": "stream",
     "text": [
      "+-----+---------+-----------+---------+-------+----+---------------+------------+---------+----------+-----------+----------+------------------------+------------------------+----------------------+----------------------+---------+----------+-----------+---------+-----------------+----------+-------+-----+-----------------+-----------------+\n",
      "|class|cap-shape|cap-surface|cap-color|bruises|odor|gill-attachment|gill-spacing|gill-size|gill-color|stalk-shape|stalk-root|stalk-surface-above-ring|stalk-surface-below-ring|stalk-color-above-ring|stalk-color-below-ring|veil-type|veil-color|ring-number|ring-type|spore-print-color|population|habitat|label|indexed_cap-shape|feature_cap-shape|\n",
      "+-----+---------+-----------+---------+-------+----+---------------+------------+---------+----------+-----------+----------+------------------------+------------------------+----------------------+----------------------+---------+----------+-----------+---------+-----------------+----------+-------+-----+-----------------+-----------------+\n",
      "|    p|        x|          s|        n|      t|   p|              f|           c|        n|         k|          e|         e|                       s|                       s|                     w|                     w|        p|         w|          o|        p|                k|         s|      u|  1.0|              0.0|    (5,[0],[1.0])|\n",
      "+-----+---------+-----------+---------+-------+----+---------------+------------+---------+----------+-----------+----------+------------------------+------------------------+----------------------+----------------------+---------+----------+-----------+---------+-----------------+----------+-------+-----+-----------------+-----------------+\n",
      "only showing top 1 row\n",
      "\n"
     ]
    }
   ],
   "source": [
    "df_sp.show(1)"
   ]
  },
  {
   "cell_type": "code",
   "execution_count": 27,
   "metadata": {},
   "outputs": [
    {
     "name": "stdout",
     "output_type": "stream",
     "text": [
      "cap-surface 4\n",
      "cap-color 10\n",
      "bruises 2\n",
      "odor 9\n",
      "gill-attachment 2\n",
      "gill-spacing 2\n",
      "gill-size 2\n",
      "gill-color 12\n",
      "stalk-shape 2\n",
      "stalk-root 5\n",
      "stalk-surface-above-ring 4\n",
      "stalk-surface-below-ring 4\n",
      "stalk-color-above-ring 9\n",
      "stalk-color-below-ring 9\n",
      "veil-type 1\n",
      "veil-color 4\n",
      "ring-number 3\n",
      "ring-type 5\n",
      "spore-print-color 9\n",
      "population 6\n",
      "habitat 7\n"
     ]
    }
   ],
   "source": [
    "for header in df_sp.columns[2:-3]:\n",
    "    print header, df_sp.select(header).distinct().count()\n",
    "    if df_sp.select(header).distinct().count() > 1:\n",
    "        indexed_header_name = 'indexed_' + header\n",
    "\n",
    "        stringIndexer = StringIndexer(inputCol=header, outputCol=indexed_header_name)\n",
    "        df_sp = stringIndexer.fit(df_sp).transform(df_sp)\n",
    "\n",
    "        encoder = OneHotEncoder(inputCol=indexed_header_name, outputCol='feature_'+header)\n",
    "        df_sp = encoder.transform(df_sp)"
   ]
  },
  {
   "cell_type": "code",
   "execution_count": 28,
   "metadata": {},
   "outputs": [
    {
     "name": "stdout",
     "output_type": "stream",
     "text": [
      "+-----+---------+-----------+---------+-------+----+---------------+------------+---------+----------+-----------+----------+------------------------+------------------------+----------------------+----------------------+---------+----------+-----------+---------+-----------------+----------+-------+-----+-----------------+-----------------+-------------------+-------------------+-----------------+-----------------+---------------+---------------+------------+-------------+-----------------------+-----------------------+--------------------+--------------------+-----------------+-----------------+------------------+------------------+-------------------+-------------------+------------------+------------------+--------------------------------+--------------------------------+--------------------------------+--------------------------------+------------------------------+------------------------------+------------------------------+------------------------------+------------------+------------------+-------------------+-------------------+-----------------+-----------------+-------------------------+-------------------------+------------------+------------------+---------------+---------------+\n",
      "|class|cap-shape|cap-surface|cap-color|bruises|odor|gill-attachment|gill-spacing|gill-size|gill-color|stalk-shape|stalk-root|stalk-surface-above-ring|stalk-surface-below-ring|stalk-color-above-ring|stalk-color-below-ring|veil-type|veil-color|ring-number|ring-type|spore-print-color|population|habitat|label|indexed_cap-shape|feature_cap-shape|indexed_cap-surface|feature_cap-surface|indexed_cap-color|feature_cap-color|indexed_bruises|feature_bruises|indexed_odor| feature_odor|indexed_gill-attachment|feature_gill-attachment|indexed_gill-spacing|feature_gill-spacing|indexed_gill-size|feature_gill-size|indexed_gill-color|feature_gill-color|indexed_stalk-shape|feature_stalk-shape|indexed_stalk-root|feature_stalk-root|indexed_stalk-surface-above-ring|feature_stalk-surface-above-ring|indexed_stalk-surface-below-ring|feature_stalk-surface-below-ring|indexed_stalk-color-above-ring|feature_stalk-color-above-ring|indexed_stalk-color-below-ring|feature_stalk-color-below-ring|indexed_veil-color|feature_veil-color|indexed_ring-number|feature_ring-number|indexed_ring-type|feature_ring-type|indexed_spore-print-color|feature_spore-print-color|indexed_population|feature_population|indexed_habitat|feature_habitat|\n",
      "+-----+---------+-----------+---------+-------+----+---------------+------------+---------+----------+-----------+----------+------------------------+------------------------+----------------------+----------------------+---------+----------+-----------+---------+-----------------+----------+-------+-----+-----------------+-----------------+-------------------+-------------------+-----------------+-----------------+---------------+---------------+------------+-------------+-----------------------+-----------------------+--------------------+--------------------+-----------------+-----------------+------------------+------------------+-------------------+-------------------+------------------+------------------+--------------------------------+--------------------------------+--------------------------------+--------------------------------+------------------------------+------------------------------+------------------------------+------------------------------+------------------+------------------+-------------------+-------------------+-----------------+-----------------+-------------------------+-------------------------+------------------+------------------+---------------+---------------+\n",
      "|    p|        x|          s|        n|      t|   p|              f|           c|        n|         k|          e|         e|                       s|                       s|                     w|                     w|        p|         w|          o|        p|                k|         s|      u|  1.0|              0.0|    (5,[0],[1.0])|                1.0|      (3,[1],[1.0])|              0.0|    (9,[0],[1.0])|            1.0|      (1,[],[])|         6.0|(8,[6],[1.0])|                    0.0|          (1,[0],[1.0])|                 0.0|       (1,[0],[1.0])|              1.0|        (1,[],[])|               7.0|    (11,[7],[1.0])|                1.0|          (1,[],[])|               2.0|     (4,[2],[1.0])|                             0.0|                   (3,[0],[1.0])|                             0.0|                   (3,[0],[1.0])|                           0.0|                 (8,[0],[1.0])|                           0.0|                 (8,[0],[1.0])|               0.0|     (3,[0],[1.0])|                0.0|      (2,[0],[1.0])|              0.0|    (4,[0],[1.0])|                      2.0|            (8,[2],[1.0])|               2.0|     (5,[2],[1.0])|            4.0|  (6,[4],[1.0])|\n",
      "+-----+---------+-----------+---------+-------+----+---------------+------------+---------+----------+-----------+----------+------------------------+------------------------+----------------------+----------------------+---------+----------+-----------+---------+-----------------+----------+-------+-----+-----------------+-----------------+-------------------+-------------------+-----------------+-----------------+---------------+---------------+------------+-------------+-----------------------+-----------------------+--------------------+--------------------+-----------------+-----------------+------------------+------------------+-------------------+-------------------+------------------+------------------+--------------------------------+--------------------------------+--------------------------------+--------------------------------+------------------------------+------------------------------+------------------------------+------------------------------+------------------+------------------+-------------------+-------------------+-----------------+-----------------+-------------------------+-------------------------+------------------+------------------+---------------+---------------+\n",
      "only showing top 1 row\n",
      "\n"
     ]
    }
   ],
   "source": [
    "df_sp.show(1)"
   ]
  },
  {
   "cell_type": "markdown",
   "metadata": {},
   "source": [
    "### Generate the Vector"
   ]
  },
  {
   "cell_type": "code",
   "execution_count": 14,
   "metadata": {},
   "outputs": [
    {
     "data": {
      "text/plain": [
       "[Row(features=SparseVector(95, {0: 1.0, 6: 1.0, 8: 1.0, 24: 1.0, 26: 1.0, 27: 1.0, 36: 1.0, 43: 1.0, 45: 1.0, 48: 1.0, 51: 1.0, 59: 1.0, 67: 1.0, 70: 1.0, 72: 1.0, 78: 1.0, 86: 1.0, 93: 1.0})),\n",
       " Row(features=SparseVector(95, {0: 1.0, 6: 1.0, 11: 1.0, 22: 1.0, 26: 1.0, 27: 1.0, 28: 1.0, 36: 1.0, 44: 1.0, 45: 1.0, 48: 1.0, 51: 1.0, 59: 1.0, 67: 1.0, 70: 1.0, 72: 1.0, 77: 1.0, 87: 1.0, 90: 1.0})),\n",
       " Row(features=SparseVector(95, {3: 1.0, 6: 1.0, 12: 1.0, 23: 1.0, 26: 1.0, 27: 1.0, 28: 1.0, 32: 1.0, 44: 1.0, 45: 1.0, 48: 1.0, 51: 1.0, 59: 1.0, 67: 1.0, 70: 1.0, 72: 1.0, 77: 1.0, 87: 1.0, 94: 1.0})),\n",
       " Row(features=SparseVector(95, {0: 1.0, 5: 1.0, 12: 1.0, 24: 1.0, 26: 1.0, 27: 1.0, 32: 1.0, 43: 1.0, 45: 1.0, 48: 1.0, 51: 1.0, 59: 1.0, 67: 1.0, 70: 1.0, 72: 1.0, 78: 1.0, 86: 1.0, 93: 1.0})),\n",
       " Row(features=SparseVector(95, {0: 1.0, 6: 1.0, 9: 1.0, 17: 1.0, 18: 1.0, 26: 1.0, 28: 1.0, 36: 1.0, 40: 1.0, 43: 1.0, 45: 1.0, 48: 1.0, 51: 1.0, 59: 1.0, 67: 1.0, 70: 1.0, 73: 1.0, 77: 1.0, 88: 1.0, 90: 1.0}))]"
      ]
     },
     "execution_count": 14,
     "metadata": {},
     "output_type": "execute_result"
    }
   ],
   "source": [
    "lst_features = [i for i in df_sp.columns if i.startswith('feature_')]\n",
    "vecAssembler = VectorAssembler(inputCols=lst_features, outputCol=\"features\")\n",
    "df_sp = vecAssembler.transform(df_sp)\n",
    "df_sp.select('features').take(5)"
   ]
  },
  {
   "cell_type": "code",
   "execution_count": 15,
   "metadata": {},
   "outputs": [
    {
     "name": "stdout",
     "output_type": "stream",
     "text": [
      "['feature_cap-shape', 'feature_cap-surface', 'feature_cap-color', 'feature_bruises', 'feature_odor', 'feature_gill-attachment', 'feature_gill-spacing', 'feature_gill-size', 'feature_gill-color', 'feature_stalk-shape', 'feature_stalk-root', 'feature_stalk-surface-above-ring', 'feature_stalk-surface-below-ring', 'feature_stalk-color-above-ring', 'feature_stalk-color-below-ring', 'feature_veil-color', 'feature_ring-number', 'feature_ring-type', 'feature_spore-print-color', 'feature_population', 'feature_habitat']\n"
     ]
    }
   ],
   "source": [
    "print lst_features"
   ]
  },
  {
   "cell_type": "markdown",
   "metadata": {},
   "source": [
    "### Model  Training"
   ]
  },
  {
   "cell_type": "code",
   "execution_count": 17,
   "metadata": {},
   "outputs": [
    {
     "name": "stdout",
     "output_type": "stream",
     "text": [
      "0.996930004934\n",
      "+----------+-----+\n",
      "|prediction|count|\n",
      "+----------+-----+\n",
      "|       0.0|  871|\n",
      "|       1.0|  758|\n",
      "+----------+-----+\n",
      "\n",
      "0.996886499886\n",
      "+----------+-----+\n",
      "|prediction|count|\n",
      "+----------+-----+\n",
      "|       0.0|  820|\n",
      "|       1.0|  786|\n",
      "+----------+-----+\n",
      "\n",
      "0.997569360388\n",
      "+----------+-----+\n",
      "|prediction|count|\n",
      "+----------+-----+\n",
      "|       0.0|  895|\n",
      "|       1.0|  751|\n",
      "+----------+-----+\n",
      "\n"
     ]
    }
   ],
   "source": [
    "dt = DecisionTreeClassifier(maxDepth=4, labelCol=\"label\")\n",
    "for test in range(3):\n",
    "    df_train, df_test = df_sp.randomSplit([.8, .2])\n",
    "\n",
    "    model = dt.fit(df_train)\n",
    "    df_predicted = model.transform(df_test.select('features','label'))\n",
    "    # y_predicted\n",
    "    \n",
    "    evaluator = MulticlassClassificationEvaluator()\n",
    "    # metrics\n",
    "    \n",
    "    print evaluator.evaluate(df_predicted)\n",
    "    df_predicted.select('prediction').groupBy('prediction').count().show()\n"
   ]
  }
 ],
 "metadata": {
  "anaconda-cloud": {},
  "kernelspec": {
   "display_name": "Python 2",
   "language": "python",
   "name": "python2"
  },
  "language_info": {
   "codemirror_mode": {
    "name": "ipython",
    "version": 2
   },
   "file_extension": ".py",
   "mimetype": "text/x-python",
   "name": "python",
   "nbconvert_exporter": "python",
   "pygments_lexer": "ipython2",
   "version": "2.7.14"
  },
  "toc": {
   "nav_menu": {},
   "number_sections": true,
   "sideBar": true,
   "skip_h1_title": false,
   "toc_cell": false,
   "toc_position": {},
   "toc_section_display": "block",
   "toc_window_display": false
  }
 },
 "nbformat": 4,
 "nbformat_minor": 1
}
